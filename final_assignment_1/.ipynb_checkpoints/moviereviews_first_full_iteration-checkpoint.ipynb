{
 "cells": [
  {
   "cell_type": "markdown",
   "metadata": {},
   "source": [
    "# Movie reviews\n",
    "\n",
    "This notebook takes you though a complete iteration of Machine Learning Assignment 1 - Movie reviews. The assignment details (including links to download the data) can be found [here](https://docs.google.com/document/d/1WGYw99e5q6j5V0Zrf2HveagU6URt_kVvdR8B9HYQ99E/edit?usp=sharing). "
   ]
  },
  {
   "cell_type": "code",
   "execution_count": 1,
   "metadata": {},
   "outputs": [],
   "source": [
    "# all imports and magic commands\n",
    "import numpy as np\n",
    "import pandas as pd\n",
    "import matplotlib.pyplot as plt\n",
    "from my_measures import BinaryClassificationPerformance\n",
    "from sklearn.feature_extraction.text import HashingVectorizer\n",
    "from sklearn.feature_extraction.text import TfidfTransformer\n",
    "from scipy.sparse import csr_matrix, hstack\n",
    "from sklearn.preprocessing import StandardScaler\n",
    "from sklearn.model_selection import train_test_split\n",
    "%matplotlib inline\n",
    "import os"
   ]
  },
  {
   "cell_type": "markdown",
   "metadata": {},
   "source": [
    "### IMPORTANT!!! Make sure you are using `BinaryClassificationPerformance` v1.02"
   ]
  },
  {
   "cell_type": "code",
   "execution_count": 2,
   "metadata": {},
   "outputs": [
    {
     "name": "stdout",
     "output_type": "stream",
     "text": [
      "Help on class BinaryClassificationPerformance in module my_measures:\n",
      "\n",
      "class BinaryClassificationPerformance(builtins.object)\n",
      " |  BinaryClassificationPerformance(predictions, labels, desc, probabilities=None)\n",
      " |  \n",
      " |  Performance measures to evaluate the fit of a binary classification model, v1.02\n",
      " |  \n",
      " |  Methods defined here:\n",
      " |  \n",
      " |  __init__(self, predictions, labels, desc, probabilities=None)\n",
      " |      Initialize attributes: predictions-vector of predicted values for Y, labels-vector of labels for Y\n",
      " |  \n",
      " |  compute_measures(self)\n",
      " |      Compute performance measures defined by Flach p. 57\n",
      " |  \n",
      " |  img_indices(self)\n",
      " |      Get the indices of true and false positives to be able to locate the corresponding images in a list of image names\n",
      " |  \n",
      " |  ----------------------------------------------------------------------\n",
      " |  Data descriptors defined here:\n",
      " |  \n",
      " |  __dict__\n",
      " |      dictionary for instance variables (if defined)\n",
      " |  \n",
      " |  __weakref__\n",
      " |      list of weak references to the object (if defined)\n",
      "\n"
     ]
    }
   ],
   "source": [
    "help(BinaryClassificationPerformance)"
   ]
  },
  {
   "cell_type": "markdown",
   "metadata": {},
   "source": [
    "# Function for feature building and extraction on natural language data"
   ]
  },
  {
   "cell_type": "code",
   "execution_count": 62,
   "metadata": {},
   "outputs": [],
   "source": [
    "# function that takes raw data and completes all preprocessing required before model fits\n",
    "def process_raw_data(fn, my_random_seed, test=False):\n",
    "    # read and summarize data\n",
    "    movie_data = pd.read_csv(fn, sep='\\t')\n",
    "    print(\"movie_data is:\", type(movie_data))\n",
    "    print(\"movie_data has\", movie_data.shape[0], \"rows and\", movie_data.shape[1], \"columns\", \"\\n\")\n",
    "    print(\"the data types for each of the columns in movie_data:\")\n",
    "    print(movie_data.dtypes, \"\\n\")\n",
    "    print(\"the first 10 rows in movie_data:\")\n",
    "    print(movie_data.head(5))\n",
    "    if (not test):\n",
    "        print(\"The rate of 'good' movie reviews in the dataset: \")\n",
    "        print(movie_data['sentiment'].mean())\n",
    "\n",
    "    # vectorize Bag of Words from review text; as sparse matrix\n",
    "    if (not test): # fit_transform()\n",
    "        hv = HashingVectorizer(n_features=2 ** 25, alternate_sign=False, analyzer ='word', stop_words={'and','the','it'})\n",
    "        X_hv = hv.fit_transform(movie_data.review)\n",
    "        fitted_transformations.append(hv)\n",
    "        print(\"Shape of HashingVectorizer X:\")\n",
    "        print(X_hv.shape)\n",
    "    else: # transform() \n",
    "        X_hv = fitted_transformations[0].transform(movie_data.review)\n",
    "        print(\"Shape of HashingVectorizer X:\")\n",
    "        print(X_hv.shape)\n",
    "    \n",
    "    # http://scikit-learn.org/stable/modules/generated/sklearn.feature_extraction.text.TfidfTransformer.html\n",
    "    if (not test):\n",
    "        transformer = TfidfTransformer()\n",
    "        X_tfidf = transformer.fit_transform(X_hv)\n",
    "        fitted_transformations.append(transformer)\n",
    "    else:\n",
    "        X_tfidf = fitted_transformations[1].transform(X_hv)\n",
    "    \n",
    "    # create additional quantitative features\n",
    "    # features from Amazon.csv to add to feature set\n",
    "    movie_data['word_count'] = movie_data['review'].str.split(' ').str.len()\n",
    "    movie_data['punc_count'] = movie_data['review'].str.count(\"\\.\")\n",
    "\n",
    "    X_quant_features = movie_data[[\"word_count\", \"punc_count\"]]\n",
    "    print(\"Look at a few rows of the new quantitative features: \")\n",
    "    print(X_quant_features.head(10))\n",
    "    \n",
    "    # Combine all quantitative features into a single sparse matrix\n",
    "    X_quant_features_csr = csr_matrix(X_quant_features)\n",
    "    X_combined = hstack([X_tfidf, X_quant_features_csr])\n",
    "    X_matrix = csr_matrix(X_combined) # convert to sparse matrix\n",
    "    print(\"Size of combined bag of words and new quantitative variables matrix:\")\n",
    "    print(X_matrix.shape)\n",
    "    \n",
    "    # Create `X`, scaled matrix of features\n",
    "    # feature scaling\n",
    "    if (not test):\n",
    "        sc = StandardScaler(with_mean=False)\n",
    "        X = sc.fit_transform(X_matrix)\n",
    "        fitted_transformations.append(sc)\n",
    "        print(X.shape)\n",
    "        y = movie_data['sentiment']\n",
    "    else:\n",
    "        X = fitted_transformations[2].transform(X_matrix)\n",
    "        print(X.shape)\n",
    "    \n",
    "    # Create Training and Test Sets\n",
    "    # enter an integer for the random_state parameter; any integer will work\n",
    "    if (test):\n",
    "        X_submission_test = X\n",
    "        print(\"Shape of X_test for submission:\")\n",
    "        print(X_submission_test.shape)\n",
    "        print('SUCCESS!')\n",
    "        return(movie_data, X_submission_test)\n",
    "    else: \n",
    "        X_train, X_test, y_train, y_test, X_raw_train, X_raw_test = train_test_split(X, y, movie_data, test_size=0.2, random_state=my_random_seed)\n",
    "        print(\"Shape of X_train and X_test:\")\n",
    "        print(X_train.shape)\n",
    "        print(X_test.shape)\n",
    "        print(\"Shape of y_train and y_test:\")\n",
    "        print(y_train.shape)\n",
    "        print(y_test.shape)\n",
    "        print(\"Shape of X_raw_train and X_raw_test:\")\n",
    "        print(X_raw_train.shape)\n",
    "        print(X_raw_test.shape)\n",
    "        print('SUCCESS!')\n",
    "        return(X_train, X_test, y_train, y_test, X_raw_train, X_raw_test)"
   ]
  },
  {
   "cell_type": "markdown",
   "metadata": {},
   "source": [
    "# Create training and test sets from function"
   ]
  },
  {
   "cell_type": "code",
   "execution_count": 63,
   "metadata": {},
   "outputs": [
    {
     "name": "stdout",
     "output_type": "stream",
     "text": [
      "movie_data is: <class 'pandas.core.frame.DataFrame'>\n",
      "movie_data has 25000 rows and 3 columns \n",
      "\n",
      "the data types for each of the columns in movie_data:\n",
      "id           object\n",
      "sentiment     int64\n",
      "review       object\n",
      "dtype: object \n",
      "\n",
      "the first 10 rows in movie_data:\n",
      "       id  sentiment                                             review\n",
      "0  5814_8          1  With all this stuff going down at the moment w...\n",
      "1  2381_9          1  \\The Classic War of the Worlds\\\" by Timothy Hi...\n",
      "2  7759_3          0  The film starts with a manager (Nicholas Bell)...\n",
      "3  3630_4          0  It must be assumed that those who praised this...\n",
      "4  9495_8          1  Superbly trashy and wondrously unpretentious 8...\n",
      "The rate of 'good' movie reviews in the dataset: \n",
      "0.5\n",
      "Shape of HashingVectorizer X:\n",
      "(25000, 33554432)\n",
      "Look at a few rows of the new quantitative features: \n",
      "   word_count  punc_count\n",
      "0         433          20\n",
      "1         158          16\n",
      "2         378          20\n",
      "3         379           8\n",
      "4         367           9\n",
      "5          89           5\n",
      "6         112           9\n",
      "7         132           9\n",
      "8         163           7\n",
      "9          43           5\n",
      "Size of combined bag of words and new quantitative variables matrix:\n",
      "(25000, 33554434)\n",
      "(25000, 33554434)\n",
      "Shape of X_train and X_test:\n",
      "(20000, 33554434)\n",
      "(5000, 33554434)\n",
      "Shape of y_train and y_test:\n",
      "(20000,)\n",
      "(5000,)\n",
      "Shape of X_raw_train and X_raw_test:\n",
      "(20000, 5)\n",
      "(5000, 5)\n",
      "SUCCESS!\n",
      "Number of fits stored in `fitted_transformations` list: \n",
      "3\n"
     ]
    }
   ],
   "source": [
    "# create an empty list to store any use of fit_transform() to transform() later\n",
    "# it is a global list to store model and feature extraction fits\n",
    "fitted_transformations = []\n",
    "\n",
    "# CHANGE FILE PATH and my_random_seed number (any integer other than 74 will do): \n",
    "X_train, X_test, y_train, y_test, X_raw_train, X_raw_test = process_raw_data(fn='moviereviews_train.tsv', my_random_seed=88)\n",
    "\n",
    "print(\"Number of fits stored in `fitted_transformations` list: \")\n",
    "print(len(fitted_transformations))"
   ]
  },
  {
   "cell_type": "markdown",
   "metadata": {},
   "source": [
    "# Fit (and tune) Various Models"
   ]
  },
  {
   "cell_type": "markdown",
   "metadata": {},
   "source": [
    "### MODEL: ordinary least squares"
   ]
  },
  {
   "cell_type": "code",
   "execution_count": 5,
   "metadata": {},
   "outputs": [
    {
     "name": "stderr",
     "output_type": "stream",
     "text": [
      "/Users/macbook/opt/anaconda3/lib/python3.9/site-packages/sklearn/linear_model/_stochastic_gradient.py:165: FutureWarning: The loss 'squared_loss' was deprecated in v1.0 and will be removed in version 1.2. Use `loss='squared_error'` which is equivalent.\n",
      "  warnings.warn(\n"
     ]
    },
    {
     "name": "stdout",
     "output_type": "stream",
     "text": [
      "{'Pos': 10030, 'Neg': 9970, 'TP': 5016, 'TN': 5081, 'FP': 4889, 'FN': 5014, 'Accuracy': 0.50485, 'Precision': 0.5064109035840485, 'Recall': 0.500099700897308, 'desc': 'ols_train'}\n"
     ]
    },
    {
     "name": "stderr",
     "output_type": "stream",
     "text": [
      "/Users/macbook/opt/anaconda3/lib/python3.9/site-packages/sklearn/linear_model/_stochastic_gradient.py:696: ConvergenceWarning: Maximum number of iteration reached before convergence. Consider increasing max_iter to improve the fit.\n",
      "  warnings.warn(\n"
     ]
    }
   ],
   "source": [
    "from sklearn import linear_model\n",
    "ols = linear_model.SGDClassifier(loss=\"squared_loss\")\n",
    "ols.fit(X_train, y_train)\n",
    "\n",
    "ols_performance_train = BinaryClassificationPerformance(ols.predict(X_train), y_train, 'ols_train')\n",
    "ols_performance_train.compute_measures()\n",
    "print(ols_performance_train.performance_measures)"
   ]
  },
  {
   "cell_type": "markdown",
   "metadata": {},
   "source": [
    "### MODEL: SVM, linear"
   ]
  },
  {
   "cell_type": "code",
   "execution_count": 11,
   "metadata": {},
   "outputs": [
    {
     "name": "stdout",
     "output_type": "stream",
     "text": [
      "{'Pos': 10030, 'Neg': 9970, 'TP': 8193, 'TN': 7951, 'FP': 2019, 'FN': 1837, 'Accuracy': 0.8072, 'Precision': 0.8022914218566393, 'Recall': 0.8168494516450648, 'desc': 'svm_train'}\n"
     ]
    }
   ],
   "source": [
    "from sklearn import linear_model\n",
    "svm = linear_model.SGDClassifier()\n",
    "svm.fit(X_train, y_train)\n",
    "\n",
    "svm_performance_train = BinaryClassificationPerformance(svm.predict(X_train), y_train, 'svm_train')\n",
    "svm_performance_train.compute_measures()\n",
    "print(svm_performance_train.performance_measures)"
   ]
  },
  {
   "cell_type": "markdown",
   "metadata": {},
   "source": [
    "### MODEL: SVC"
   ]
  },
  {
   "cell_type": "code",
   "execution_count": 64,
   "metadata": {},
   "outputs": [
    {
     "name": "stdout",
     "output_type": "stream",
     "text": [
      "{'Pos': 10030, 'Neg': 9970, 'TP': 10004, 'TN': 9947, 'FP': 23, 'FN': 26, 'Accuracy': 0.99755, 'Precision': 0.997706193278149, 'Recall': 0.99740777666999, 'desc': 'svc_train'}\n"
     ]
    }
   ],
   "source": [
    "from sklearn import linear_model\n",
    "svc = linear_model.SGDClassifier(loss='hinge',alpha=1.0)\n",
    "svc.fit(X_train, y_train)\n",
    "\n",
    "svc_performance_train = BinaryClassificationPerformance(svc.predict(X_train), y_train, 'svc_train')\n",
    "svc_performance_train.compute_measures()\n",
    "print(svc_performance_train.performance_measures)"
   ]
  },
  {
   "cell_type": "code",
   "execution_count": 65,
   "metadata": {},
   "outputs": [
    {
     "name": "stdout",
     "output_type": "stream",
     "text": [
      "{'Pos': 10030, 'Neg': 9970, 'TP': 8799, 'TN': 9810, 'FP': 160, 'FN': 1231, 'Accuracy': 0.93045, 'Precision': 0.9821408639357071, 'Recall': 0.8772681954137588, 'desc': 'svc_train1'}\n"
     ]
    }
   ],
   "source": [
    "from sklearn import linear_model\n",
    "svc1 = linear_model.SGDClassifier(loss='hinge',alpha=100.0)\n",
    "svc1.fit(X_train, y_train)\n",
    "\n",
    "svc_performance_train1 = BinaryClassificationPerformance(svc1.predict(X_train), y_train, 'svc_train1')\n",
    "svc_performance_train1.compute_measures()\n",
    "print(svc_performance_train1.performance_measures)"
   ]
  },
  {
   "cell_type": "code",
   "execution_count": 79,
   "metadata": {},
   "outputs": [
    {
     "name": "stdout",
     "output_type": "stream",
     "text": [
      "{'Pos': 10030, 'Neg': 9970, 'TP': 8159, 'TN': 9898, 'FP': 72, 'FN': 1871, 'Accuracy': 0.90285, 'Precision': 0.9912525817033168, 'Recall': 0.8134596211365902, 'desc': 'svc_train2'}\n"
     ]
    }
   ],
   "source": [
    "from sklearn import linear_model\n",
    "svc2 = linear_model.SGDClassifier(loss='hinge',alpha=1000.0)\n",
    "svc2.fit(X_train, y_train)\n",
    "\n",
    "svc_performance_train2 = BinaryClassificationPerformance(svc2.predict(X_train), y_train, 'svc_train2')\n",
    "svc_performance_train2.compute_measures()\n",
    "print(svc_performance_train2.performance_measures)"
   ]
  },
  {
   "cell_type": "code",
   "execution_count": 68,
   "metadata": {},
   "outputs": [
    {
     "name": "stdout",
     "output_type": "stream",
     "text": [
      "{'Pos': 10030, 'Neg': 9970, 'TP': 10015, 'TN': 34, 'FP': 9936, 'FN': 15, 'Accuracy': 0.50245, 'Precision': 0.5019798506340535, 'Recall': 0.9985044865403788, 'desc': 'svc_train3'}\n"
     ]
    }
   ],
   "source": [
    "from sklearn import linear_model\n",
    "svc3 = linear_model.SGDClassifier(loss='hinge',alpha=100.0,penalty=None)\n",
    "svc3.fit(X_train, y_train)\n",
    "\n",
    "svc_performance_train3 = BinaryClassificationPerformance(svc3.predict(X_train), y_train, 'svc_train3')\n",
    "svc_performance_train3.compute_measures()\n",
    "print(svc_performance_train3.performance_measures)"
   ]
  },
  {
   "cell_type": "code",
   "execution_count": 77,
   "metadata": {},
   "outputs": [
    {
     "name": "stdout",
     "output_type": "stream",
     "text": [
      "{'Pos': 10030, 'Neg': 9970, 'TP': 8152, 'TN': 9899, 'FP': 71, 'FN': 1878, 'Accuracy': 0.90255, 'Precision': 0.9913656816247112, 'Recall': 0.8127617148554337, 'desc': 'svc_train4'}\n"
     ]
    }
   ],
   "source": [
    "from sklearn import linear_model\n",
    "svc4 = linear_model.SGDClassifier(loss='hinge',alpha=1000.0,penalty='l2')\n",
    "svc4.fit(X_train, y_train)\n",
    "\n",
    "svc_performance_train4 = BinaryClassificationPerformance(svc4.predict(X_train), y_train, 'svc_train4')\n",
    "svc_performance_train4.compute_measures()\n",
    "print(svc_performance_train4.performance_measures)"
   ]
  },
  {
   "cell_type": "code",
   "execution_count": 69,
   "metadata": {},
   "outputs": [
    {
     "name": "stdout",
     "output_type": "stream",
     "text": [
      "{'Pos': 10030, 'Neg': 9970, 'TP': 8528, 'TN': 9863, 'FP': 107, 'FN': 1502, 'Accuracy': 0.91955, 'Precision': 0.9876085697741749, 'Recall': 0.8502492522432702, 'desc': 'svc_train5'}\n"
     ]
    }
   ],
   "source": [
    "from sklearn import linear_model\n",
    "svc5 = linear_model.SGDClassifier(loss='hinge',alpha=500.0)\n",
    "svc5.fit(X_train, y_train)\n",
    "\n",
    "svc_performance_train5 = BinaryClassificationPerformance(svc5.predict(X_train), y_train, 'svc_train5')\n",
    "svc_performance_train5.compute_measures()\n",
    "print(svc_performance_train5.performance_measures)"
   ]
  },
  {
   "cell_type": "markdown",
   "metadata": {},
   "source": [
    "### MODEL: logistic regression"
   ]
  },
  {
   "cell_type": "code",
   "execution_count": 27,
   "metadata": {},
   "outputs": [
    {
     "name": "stdout",
     "output_type": "stream",
     "text": [
      "{'Pos': 10030, 'Neg': 9970, 'TP': 8142, 'TN': 8225, 'FP': 1745, 'FN': 1888, 'Accuracy': 0.81835, 'Precision': 0.8235056134317791, 'Recall': 0.8117647058823529, 'desc': 'lgs_train'}\n"
     ]
    }
   ],
   "source": [
    "from sklearn import linear_model\n",
    "lgs = linear_model.SGDClassifier(loss='log')\n",
    "lgs.fit(X_train, y_train)\n",
    "\n",
    "lgs_performance_train = BinaryClassificationPerformance(lgs.predict(X_train), y_train, 'lgs_train')\n",
    "lgs_performance_train.compute_measures()\n",
    "print(lgs_performance_train.performance_measures)"
   ]
  },
  {
   "cell_type": "markdown",
   "metadata": {},
   "source": [
    "### MODEL: Naive Bayes"
   ]
  },
  {
   "cell_type": "code",
   "execution_count": 28,
   "metadata": {},
   "outputs": [
    {
     "name": "stdout",
     "output_type": "stream",
     "text": [
      "{'Pos': 10030, 'Neg': 9970, 'TP': 8062, 'TN': 7783, 'FP': 2187, 'FN': 1968, 'Accuracy': 0.79225, 'Precision': 0.7866133281295736, 'Recall': 0.8037886340977068, 'desc': 'nbs_train'}\n"
     ]
    }
   ],
   "source": [
    "from sklearn.naive_bayes import MultinomialNB\n",
    "nbs = MultinomialNB()\n",
    "nbs.fit(X_train, y_train)\n",
    "\n",
    "nbs_performance_train = BinaryClassificationPerformance(nbs.predict(X_train), y_train, 'nbs_train')\n",
    "nbs_performance_train.compute_measures()\n",
    "print(nbs_performance_train.performance_measures)"
   ]
  },
  {
   "cell_type": "markdown",
   "metadata": {},
   "source": [
    "### MODEL: Perceptron"
   ]
  },
  {
   "cell_type": "code",
   "execution_count": 29,
   "metadata": {},
   "outputs": [
    {
     "name": "stdout",
     "output_type": "stream",
     "text": [
      "{'Pos': 10030, 'Neg': 9970, 'TP': 5812, 'TN': 9002, 'FP': 968, 'FN': 4218, 'Accuracy': 0.7407, 'Precision': 0.8572271386430679, 'Recall': 0.5794616151545364, 'desc': 'prc_train'}\n"
     ]
    }
   ],
   "source": [
    "from sklearn import linear_model\n",
    "prc = linear_model.SGDClassifier(loss='perceptron')\n",
    "prc.fit(X_train, y_train)\n",
    "\n",
    "prc_performance_train = BinaryClassificationPerformance(prc.predict(X_train), y_train, 'prc_train')\n",
    "prc_performance_train.compute_measures()\n",
    "print(prc_performance_train.performance_measures)"
   ]
  },
  {
   "cell_type": "markdown",
   "metadata": {},
   "source": [
    "### MODEL: Ridge Regression Classifier"
   ]
  },
  {
   "cell_type": "code",
   "execution_count": 30,
   "metadata": {},
   "outputs": [
    {
     "name": "stdout",
     "output_type": "stream",
     "text": [
      "{'Pos': 10030, 'Neg': 9970, 'TP': 8498, 'TN': 8218, 'FP': 1752, 'FN': 1532, 'Accuracy': 0.8358, 'Precision': 0.8290731707317073, 'Recall': 0.847258225324028, 'desc': 'rdg_train'}\n"
     ]
    }
   ],
   "source": [
    "from sklearn import linear_model\n",
    "rdg = linear_model.RidgeClassifier()\n",
    "rdg.fit(X_train, y_train)\n",
    "\n",
    "rdg_performance_train = BinaryClassificationPerformance(rdg.predict(X_train), y_train, 'rdg_train')\n",
    "rdg_performance_train.compute_measures()\n",
    "print(rdg_performance_train.performance_measures)"
   ]
  },
  {
   "cell_type": "code",
   "execution_count": 31,
   "metadata": {},
   "outputs": [
    {
     "name": "stdout",
     "output_type": "stream",
     "text": [
      "{'Pos': 10030, 'Neg': 9970, 'TP': 8498, 'TN': 8218, 'FP': 1752, 'FN': 1532, 'Accuracy': 0.8358, 'Precision': 0.8290731707317073, 'Recall': 0.847258225324028, 'desc': 'rdg_train1'}\n"
     ]
    }
   ],
   "source": [
    "from sklearn import linear_model\n",
    "rdg_1 = linear_model.RidgeClassifier(alpha=2.0)\n",
    "rdg_1.fit(X_train, y_train)\n",
    "\n",
    "rdg_pt1 = BinaryClassificationPerformance(rdg_1.predict(X_train), y_train, 'rdg_train1')\n",
    "rdg_pt1.compute_measures()\n",
    "print(rdg_pt1.performance_measures)"
   ]
  },
  {
   "cell_type": "code",
   "execution_count": 32,
   "metadata": {},
   "outputs": [
    {
     "name": "stdout",
     "output_type": "stream",
     "text": [
      "{'Pos': 10030, 'Neg': 9970, 'TP': 8490, 'TN': 8219, 'FP': 1751, 'FN': 1540, 'Accuracy': 0.83545, 'Precision': 0.8290206034566937, 'Recall': 0.8464606181455633, 'desc': 'rdg_train2'}\n"
     ]
    }
   ],
   "source": [
    "from sklearn import linear_model\n",
    "rdg_2 = linear_model.RidgeClassifier(alpha=2.0, class_weight='balanced')\n",
    "rdg_2.fit(X_train, y_train)\n",
    "\n",
    "rdg_pt2 = BinaryClassificationPerformance(rdg_2.predict(X_train), y_train, 'rdg_train2')\n",
    "rdg_pt2.compute_measures()\n",
    "print(rdg_pt2.performance_measures)"
   ]
  },
  {
   "cell_type": "code",
   "execution_count": 33,
   "metadata": {},
   "outputs": [
    {
     "name": "stdout",
     "output_type": "stream",
     "text": [
      "{'Pos': 10030, 'Neg': 9970, 'TP': 8491, 'TN': 8221, 'FP': 1749, 'FN': 1539, 'Accuracy': 0.8356, 'Precision': 0.82919921875, 'Recall': 0.8465603190428714, 'desc': 'rdg_train3'}\n"
     ]
    }
   ],
   "source": [
    "from sklearn import linear_model\n",
    "rdg_3 = linear_model.RidgeClassifier(alpha=50.0, class_weight='balanced')\n",
    "rdg_3.fit(X_train, y_train)\n",
    "\n",
    "rdg_pt3 = BinaryClassificationPerformance(rdg_3.predict(X_train), y_train, 'rdg_train3')\n",
    "rdg_pt3.compute_measures()\n",
    "print(rdg_pt3.performance_measures)"
   ]
  },
  {
   "cell_type": "code",
   "execution_count": 34,
   "metadata": {},
   "outputs": [
    {
     "name": "stderr",
     "output_type": "stream",
     "text": [
      "/Users/macbook/opt/anaconda3/lib/python3.9/site-packages/sklearn/linear_model/_ridge.py:729: UserWarning: \"sag\" solver requires many iterations to fit an intercept with sparse inputs. Either set the solver to \"auto\" or \"sparse_cg\", or set a low \"tol\" and a high \"max_iter\" (especially if inputs are not standardized).\n",
      "  warnings.warn(\n"
     ]
    },
    {
     "name": "stdout",
     "output_type": "stream",
     "text": [
      "{'Pos': 10030, 'Neg': 9970, 'TP': 8477, 'TN': 8236, 'FP': 1734, 'FN': 1553, 'Accuracy': 0.83565, 'Precision': 0.8301831358339046, 'Recall': 0.8451645064805583, 'desc': 'rdg_train4'}\n"
     ]
    }
   ],
   "source": [
    "from sklearn import linear_model\n",
    "rdg_4 = linear_model.RidgeClassifier(alpha=500.0, class_weight='balanced',solver='sag')\n",
    "rdg_4.fit(X_train, y_train)\n",
    "\n",
    "rdg_pt4 = BinaryClassificationPerformance(rdg_4.predict(X_train), y_train, 'rdg_train4')\n",
    "rdg_pt4.compute_measures()\n",
    "print(rdg_pt4.performance_measures)"
   ]
  },
  {
   "cell_type": "code",
   "execution_count": 35,
   "metadata": {},
   "outputs": [
    {
     "name": "stdout",
     "output_type": "stream",
     "text": [
      "{'Pos': 10030, 'Neg': 9970, 'TP': 8498, 'TN': 8218, 'FP': 1752, 'FN': 1532, 'Accuracy': 0.8358, 'Precision': 0.8290731707317073, 'Recall': 0.847258225324028, 'desc': 'rdg_train5'}\n"
     ]
    }
   ],
   "source": [
    "from sklearn import linear_model\n",
    "rdg_5 = linear_model.RidgeClassifier(alpha=10000.0, class_weight='balanced',solver='sparse_cg')\n",
    "rdg_5.fit(X_train, y_train)\n",
    "\n",
    "rdg_pt5 = BinaryClassificationPerformance(rdg_1.predict(X_train), y_train, 'rdg_train5')\n",
    "rdg_pt5.compute_measures()\n",
    "print(rdg_pt5.performance_measures)"
   ]
  },
  {
   "cell_type": "markdown",
   "metadata": {},
   "source": [
    "### MODEL: Random Forest Classifier"
   ]
  },
  {
   "cell_type": "code",
   "execution_count": 36,
   "metadata": {},
   "outputs": [
    {
     "name": "stdout",
     "output_type": "stream",
     "text": [
      "{'Pos': 10030, 'Neg': 9970, 'TP': 7823, 'TN': 7122, 'FP': 2848, 'FN': 2207, 'Accuracy': 0.74725, 'Precision': 0.7331084247024646, 'Recall': 0.7799601196410768, 'desc': 'rdf_train'}\n"
     ]
    }
   ],
   "source": [
    "from sklearn.ensemble import RandomForestClassifier\n",
    "rdf = RandomForestClassifier(max_depth=2, random_state=0)\n",
    "rdf.fit(X_train, y_train)\n",
    "\n",
    "rdf_performance_train = BinaryClassificationPerformance(rdf.predict(X_train), y_train, 'rdf_train')\n",
    "rdf_performance_train.compute_measures()\n",
    "print(rdf_performance_train.performance_measures)"
   ]
  },
  {
   "cell_type": "markdown",
   "metadata": {},
   "source": [
    "### ROC plot to compare performance of various models and fits"
   ]
  },
  {
   "cell_type": "code",
   "execution_count": 70,
   "metadata": {
    "scrolled": false
   },
   "outputs": [
    {
     "data": {
      "image/png": "[encoded data removed]",
      "text/plain": [
       "<Figure size 640x480 with 1 Axes>"
      ]
     },
     "metadata": {},
     "output_type": "display_data"
    }
   ],
   "source": [
    "fits = [svc_performance_train, svc_performance_train1, svc_performance_train2, svc_performance_train3, svc_performance_train4, svc_performance_train5]\n",
    "\n",
    "for fit in fits:\n",
    "    plt.plot(fit.performance_measures['FP'] / fit.performance_measures['Neg'], \n",
    "             fit.performance_measures['TP'] / fit.performance_measures['Pos'], 'bo')\n",
    "    plt.text(fit.performance_measures['FP'] / fit.performance_measures['Neg'], \n",
    "             fit.performance_measures['TP'] / fit.performance_measures['Pos'], fit.desc)\n",
    "plt.axis([0, 1, 0, 1])\n",
    "plt.title('ROC plot: test set')\n",
    "plt.xlabel('False positive rate')\n",
    "plt.ylabel('True positive rate')\n",
    "plt.show()"
   ]
  },
  {
   "cell_type": "markdown",
   "metadata": {},
   "source": [
    "### looking at reviews based on their classification\n",
    "\n",
    "Let's say we decide that Ordinary Least Squares (OLS) Regression is the best model for generalization. Let's take a look at some of the reviews and try to make a (subjective) determination of whether it's generalizing well. "
   ]
  },
  {
   "cell_type": "code",
   "execution_count": 37,
   "metadata": {},
   "outputs": [],
   "source": [
    "prc_predictions = prc.predict(X_train)"
   ]
  },
  {
   "cell_type": "markdown",
   "metadata": {},
   "source": [
    "### let's look at some false positives:"
   ]
  },
  {
   "cell_type": "code",
   "execution_count": 38,
   "metadata": {},
   "outputs": [
    {
     "name": "stdout",
     "output_type": "stream",
     "text": [
      "Examples of false positives:\n",
      "1145\n",
      "My wife and I found this film to be highly unsatisfying. While the plot keeps you interested and busy wondering just what is going on, when you leave the theater, there are just too many loose ends that make no sense at all. (SPOILERS AHEAD) Christopher Plummer, enormously wealthy head of a NY bank has a terrible hidden secret. Profiting from WW II deals with the Nazis and hiding loot stolen from Jews, he keeps the evidence (including diamonds and documents with the Nazi swastika) in a safety deposit box in his bank. Why? If he wants this never to be revealed, why did he not burn and destroy the documents years ago? And the diamonds? Obviously, he does not need them - why keep them rather than dispose of them? How did the bank robbers find out his secret? How did they know to zero in on this very safety deposit box #232? Ace detective Denzel Washington also discovers bank records show SD Boxes No's 231 and 233, but no #232. Curious. He meticulously found time somehow to do an exhausting search of bank records to unearth this one curious fact. All the while dealing with a red hot hostage situation and bank robbers threatening to start executing them momentarily. Wow! Talk about super powers for a detective.<br /><br />The bank robbers leave behind millions of dollars in loose currency in the vault they have opened. They take only the contents of SD Box #232, ostensibly for the purpose of blackmailing the bank president. This defies any rational attempt at a logical explanation for what the film depicts as a criminal mastermind, or for his henchmen with lesser brains.<br /><br />Jodie Foster, using her political connections with the Mayor of NYC, gains permission to enter the bank which is under the control of the bank robbers while holding many hostages. She offers the chief bank robber a deal to buy back the documents he now has in hand, but he ain't interested. So what's his point (if any?).<br /><br />My wife was offended by the arrogance of all the players, Christopher Plummer (Bank President), Denzel Washington (ace detective), and Jodie Foster, crack trouble shooter for high-powered problems.<br /><br />The last Jodie Foster movie I saw, \\Flight Plan\\\", was also riddled with holes that made no sense at all. I thought I liked Jodie Foster, but I will probably avoid her future films.<br /><br />Now my problem is that I can rarely persuade my wife to go to the movies. I cannot disagree with her on this one ... \\\"A WASTE OF MONEY, AND A WASTE OF TIME.\\\" Be forewarned. A well crafted film, fine actors, lousy script writing.\"\n",
      "* * * * * * * * * \n",
      "1315\n",
      "It's terrific when a funny movie doesn't make smile you. What a pity!! This film is very boring and so long. It's simply painfull. The story is staggering without goal and no fun.<br /><br />You feel better when it's finished.\n",
      "* * * * * * * * * \n",
      "1462\n",
      "This is a very cheaply made werewolf flick. The video is dark and poorly lit. The audio is uneven and poorly recorded and mixed. The script is cliche ridden junk with the usual characters like the tough detective who shoots werewolves with his silver handgun! [filled of course with silver bullets]. The acting is as wooden as the characters. The FX are non-existent,lots of extreme close-ups of werewolf jaws and biting. the only thing that is shown is lots of soft-core T&A. Instead of dropping $30 for this tripe check out a really great recent werewolf pic: \\Dog Soldiers\\\" with Sean Pertwee.\"\n",
      "* * * * * * * * * \n",
      "1654\n",
      "This movie features two of my favorite actors in Kilmer and Downey. It also boasts the always enjoyable Larry Miller in a too-small part. Despite this I found it to be nearly unwatchable. Michelle Monaghan may be pretty but she is nearly charisma free and the reasons for Downey's character's obsession with her character is not at all understandable in terms of the information the film presents or the way it's portrayed. The ending seems pretentious and though the intention seems to be that the audience should join in the nod and wink the film, having failed to bring us in on the side of its protagonists leaves us unwilling or unable to do so.<br /><br />Fans of the film say that those who disagree simply \\don't get it\\\". I don't think this is so. The plot was not complicated or beyond understanding. It was simply uninvolving and clumsily and obviously manufactured. I \\\"got it\\\". I just didn't like it. Paddy Breathnach's \\\"I Went Down\\\" and Guy Ritchie's \\\"Snatch\\\" and \\\"Lock, Stock and Two Smoking Barrels\\\" are much better realized examples of the kind of film-making that director Shane Black fails to achieve.<br /><br />I share a birthday with Shane Black but a look at his credits (mostly as a screenwriter)makes me want to dissociate myself from any other connection.\"\n",
      "* * * * * * * * * \n",
      "1717\n",
      "I mean seriously what group would sing about a crazy car? So what if their ten, It's way too immature for a little kid to sing about \\being my women\\\" I mean seriously! The name is pretty corny too, naked brothers? just because they take off their pants??? HOW CREATIVE.I don't get why they need a TV show I mean most artist don't really need a TV show about themselves, especially the naked brothers band. Heck how many of them are in the freaking group. And seriously whats with the movie? Jeez Nick use to be the hightlight of my years growing up but seriously The naked brother band? SO many parents would not let their kids watch this especially with the name the Naked Brother's band, its a stupid, uncreative show that should not be aired onto TV.\"\n",
      "* * * * * * * * * \n",
      "2796\n",
      "The thing that stands out in my mind in this film (sadly) is the introduction, where John Berlin (Andy Garcia) is driving into town. You see his Mercedes pass on a winding road through a forest that looks like its loaded with Redwood trees. It's quite beautiful. <br /><br />As to Andy Garcia playing a character with the last name of Berlin, well...Andy is just too hispanic/Latin for it to be passable. Maybe a caucasian father married his Spanish mother for this story? Who knows. But I can tell you that when you put him in a town of farm folks and hicks, he stands out like a sore thumb, especially with his accent that flares up when he gets angry. Yeah, I know, big deal right? He's still a good actor.<br /><br />The title concerns a serial killer who nicknames his victims Jennifer. All of the victims are blind and he dismembers them. The killer has taken a hiatus but suddenly resurfaces when a blind witness (don't ask) appears, Helena Robertson (Uma Thurman). Thurman does a good job of playing a blind person, to my surprise. When I saw Lance Henriksen playing Sgt. Freddy Ross I got worried. Henriksen's played in some pretty strange films, especially of late. I still can't forget him in the bloodbath movie, Pumpkinhead. <br /><br />Berlin movies into a small town from L.A. as a detective. He begins investigating the Jennifer murders after finding body parts in the local landfill. His brilliance in discovering one of the victims was blind seemed far-fetched. So did the irony of *SPOILER* Freddy's murder, with the recording and name similarities. I got very confused as to the logic of how there came to be eight \\Jennifers\\\". And the motive of the killer as simply deranged didn't pack much of a punch. In retrospect, this film is probably more true to life in showing an unsuspecting individual as capable of murder simply because they became a little wacko over time or maybe were born looney toons.<br /><br />John Malkovich does a stupendous job in his interrogation of Garcia! Albeit no cop would legally be allowed to press someone that hard and egg them on without rightfully get knocked out. As to the ending, it is a bit of a surprise, but is highly arguable, much like Sgt. Ross' murder. The killer chooses to walk after his running victim, opting instead to frolick I guess.<br /><br />And there are so many opportunities he has in killing her that it's ridiculous. I won't ruin the very end because despite it's shakiness, it's a good surprise. Afterward though, you'll probably say, as I did, \\\"boy was she lucky!\\\" 4/10\"\n",
      "* * * * * * * * * \n",
      "2998\n",
      "A movie that makes you want to throw yourself on a sword. I've seen schlock in my time but after viewing the wretched mess I don't think I can ever watch a another movie again. May God pity the souls who made this.<br /><br />Premise- Ex-Army quiet stud, underwear model type character (well acted actually) goes looking for the girl who sent him a Xmas card while serving in the military. Lands in with her cabin living-granola type family who are right-wing loggers. Family takes to him and it takes 2 hours of our time for the chick to see he's a better catch than her liberal looking ,french wine drinking, porsche driving, loud cell phone talking, lazy, city slicking, Jewish looking fiancé.<br /><br />The Bad- 1d characters, 1d themes. Being beat over the head with the Pro-Military theme. Ed Asner.<br /><br />The Good- commercial breaks were long. Peter Jason. It ended.\n",
      "* * * * * * * * * \n",
      "3395\n",
      "What else can you say about this movie,except that it's plain awful.Tina Louise and Adam West are the reasons why to see this,but,that's it,but their talents are wasted in this junk.I think that they used a double in some of Adam's scenes,like when he's running because you can't see his face.If Adam was embarrassed in being in Zombie Nightmare,just think what he must've felt about appearing in this??? If it was before or after,I'm not sure,but,still,Zombie Nightmare is a classic(check out the Mystery Science Theater 3000 version first and last)compared to this.The gang is very annoying and over-acting by some of the actors.A rip-off of The Wild One starring Marlon Brando,of course.Tina looks stunning though.I hope her and Adam got a good paycheck!! Pass!\n",
      "* * * * * * * * * \n",
      "3750\n",
      "I felt asleep, watching it!!! (and I had tickets for the midnight- premiere) Any questions? The most disturbing scene, as far as I can remember, was the techno-dance-i-dont-know-what-that-was-scene. By the way what an ending!?\n",
      "* * * * * * * * * \n",
      "4070\n",
      "This cowardly and offensive film had me intrigued to begin with. The characters are the familiar dispossessed young males frequently to be seen hanging around bored in a sea side town. Robert is an outsider but he has his music which could have been his soul. Instead Clay makes Robert into a freak who embarks on a journey into cannabis and ecstasy and getting in with the wrong crowd. Clay seems to believe in \\reefer madness\\\" and Robert ends the film as a homicidal rapist. One wonders how much experience of real life this young director has. No one can save poor Robert. Clay leaves us with the message that young British men are out of control. A very unsubtle link is made to the Iraqi insurgents; during the needlessly graphic rape we are subjected to explosions and images of war. The film shows male peer group extremism pushed to it's limits. The young bombers in London draw a parallel with Clay's hateful depiction of modern male. Clay implies that men simply cannot help themselves from inflicting terrible acts of violence. It is a wonder the British film industry allows money to be invested in films which advocate such divisive propaganda, when in London we are still reeling from the recent attacks. This is Clay's first film, I would be delighted if it is his last.\"\n",
      "* * * * * * * * * \n",
      "4163\n",
      "Being an independent filmmaker and a huge fan of Edward D. Wood Jr. I purchased this documentary believing that this would finally set the record straight on how gifted and brilliant Ed Wood actually was. <br /><br />What I got was a disappointing self-centered, conflictive, contradictory compilation of bitter self-aggrandizing has-beens. <br /><br />Where people DO remember Ed Wood Jr., do people actually remember the second cousin of the guy with the duct tape who knew someone who was in Plan Nine From Outer Space? <br /><br />It appears as though, the very minute there is a renewed interest in Ed Wood, these people come out of the \\Wood\\\"work! Only to take mean spirited swipes at someone who actually gave them a chance when no-one else would! After 50 years I would suggest that many of these people should let go of the fact that they didn't get the $75 they were promised!<br /><br />Ed Wood was a brilliant creative filmmaker who knew how to entertain. In-fact that was ALL he lived for. You may giggle when you see Ed's films, but somehow you are aware that you are laughing WITH him, and not AT him. <br /><br />But, I digress... Back to the film at hand. If you are expecting a film ABOUT Edward D. Wood Jr., you won't get it here. If you want a film about cranky bitter old actors, this is the film for you!\"\n",
      "* * * * * * * * * \n",
      "4880\n",
      "I will admit that I have seen maybe five minutes of \\Jerry Springer\\\". I don't consider myself a snob, but I really think that I am above watching what's on his show. You should try to elevate yourself above that too.<br /><br />I saw this movie as part of a social studies event I was conducting. I was told that this movie really had little to do with Springer himself, rather it centered on the lives of those who would appear on \\\"Springer.\\\" Handled better, this movie might have actually been a fascinating look at how pathetic these people's lives actually are. I will admit, I felt a twinge of empathy for Connie (Molly Hagan). This is all she has in life. How sad that she feels she must go on Jerry's show in order to resolve this.<br /><br />I really feel sorry for Molly Hagan appearing in this. Have you noticed that after this movie, she has mainly been relegated to \\\"B\\\" roles on TV? I will say this about Hagan. She is an extremely beautiful and intelligent woman. I have no doubt that she is very earnest in her acting and she tries to play her roles with a lot of empathy. The problem is that Hagan can't carry a scene on her own. She just doesn't have what it takes to do a lead role. Her best work will always be Angel on \\\"Herman's Head\\\" (a show that was not great, but its heart was in the right place) and when she guested on \\\"Seinfeld\\\" as Sister Roberta.\"\n",
      "* * * * * * * * * \n",
      "5528\n",
      "This film came recommended as a good action film, which I don't really think it is. I found the story convoluted and not all that easy to follow. There really isn't that much action until the end of the film and it's pretty dark and hard to see what's really happening. I was sure hoping for something different, but, alas, didn't find it here.\n",
      "* * * * * * * * * \n",
      "5698\n",
      "This movie was exactly what I expected it to be when i first read the casting. I probably could have written a more exciting plot, it's a pity that they left it to a pack of Howler Monkeys. Alberto Tomba was surely a good skier but he has to thank God (and we too) that he does not have to rely on his actor skills to earn his living. He can't play, he can't talk, he can't even move very good on mainland without his skis... Michelle Hunziker is a pretty blonde girl, and that's all. She obviously wasn't chosen for her astounding competence in dramatic roles but most probably for her nice legs. Nevertheless I must admit that she could be the Tomba's acting teacher, because he's even a worse actor than her, and that's funny, especially considering that she isn't italian. I laughed all the time, watching this movie. I found it so ridiculous and meaningless that it actually made me laugh, loud, very loud.\n",
      "* * * * * * * * * \n",
      "6299\n",
      "I hated this crap, every Friday as part of tgif it was on, and consistently sucked big time with stupidity each and every week. If you want to see something funny go watch \\No On Would Tell\\\" Starring Candice Cameron and Fred Savage, it really is hilarious, shows exactly why no one ever goes on to a good film career after doing a terrible TV show. This show really makes me sick, I hate those kids, and bob saget needs to go jump off a bridge for ever making this crapfest. I've seen funner stuff everywhere else but here. I AHet writing 10 lines! Watch 'full house' to see the least humanity has to offer in the way of arts and entertainment.\"\n",
      "* * * * * * * * * \n",
      "6519\n",
      "It seems there's a bit of a curse out there when it comes to gay cinema. Namely, happy endings aren't very common. Beautiful Thing excluded, gay films tend to end in broken relationships or untimely death. And some, like Come Undone, just end... period.<br /><br />The creators of this horrid piece of nonsense have a thing or two to learn about plot, direction, and timelines. Within the first ten minutes of this film, I found myself a bit confused, and even more so after the first glimpse of Jeremie Elkaim's character having a little psych session. It seems this film was randomly pieced together without the slightest attempt at continuity or consistency. There's no real way to tell when you're viewing the present or some sort of ethereal flashback. I could only take so much before it became truly unappealing.<br /><br />Stephen Holden of The New York Times called this film \\...shimmeringly beautiful and utterly real.\\\" Well, it seems that Stephen invested in beer goggles prior to viewing, as this is truly far from beautiful. Due to all the praise this film received, I expected something worth watching. Sadly, the film lived down to its title. And by the end of the movie (which provided no resolution whatsoever, I might add) it's plain to see that the writers, the director and the film have all Come Undone.\"\n",
      "* * * * * * * * * \n",
      "6559\n",
      "A strange mix of traditional-80s, smartassy, Chevy Chase-type, \\every-ten-lines-you-get-a-funny-one\\\" farce and sickie black comedy. Mildly amusing in spots, but utterly tasteless. There is a skiing sequence that includes the fakest-looking back-projections since \\\"On Her Majesty's Secret Service\\\". (**)\"\n",
      "* * * * * * * * * \n",
      "7534\n",
      "This movie was, as Homer Simpson would have put it, \\more boring than church.\\\" Maybe I don't understand it well enough, and I thought it started out pretty well, but after (START OF SPOILER) Hermann Braun is sent to jail and Maria starts working/sleeping with her boss it just started to drag, and I struggled to keep awake. Again, maybe it symbolizes something, but the explosion at the end seemed very forced and out of place. (END OF SPOILER). In the end, I fail to see why others think it's so great, as I found it extremely boring. By the way, I did not watch this movie by my own free will, as I was required to see it for a Film class.\"\n",
      "* * * * * * * * * \n",
      "8038\n",
      "Blank Check is a movie that I saw on TV one day and like most movies they air on TV Blank Check wasn't that good. First of all no one I have ever met has seen Blank Check and that includes people that grew up in the 90s. Also Blank Check won't be remembered in the 00s either simply due to the fact that it will be overshadowed by pixar's films. I wouldn't call Blank Check a bad film but its not really entertaining either. (Or at least it isn't to anyone over the age of 6) Blank Check isn't a entertaining film because nothing about it is original. Everything just makes you go \\what haven't I seen this before?\\\" Blank Check rips off and tries to cash in on everything from Richie Rich to Home Alone (Which strangely enough both have Macaulay Culkin in it) Blank Check isn't a bad movie, but it deserves to fade into obscurity.\"\n",
      "* * * * * * * * * \n",
      "9587\n",
      "It's hard to imagine that anyone could find this short their favorite if they have seen most of their shorts, but I know that humor is VERY subjective. I have seen all of their sound shorts (by far the best of their stuff IMO) and I found this one of their weaker efforts.<br /><br />In the year this was made (1930) Stan and Babe made 15 shorts and one feature. They were extremely popular and their boss Hal Roach took full advantage by keeping them working constantly. In addition, this was a time of experimentation for the writers and Stan. I would say this was an experiment that really did not work. As someone else said, it does not play to their strengths. Too much dialog and plot.<br /><br />The best part of this one for me is the largely improvised sequence with Stan as Agnes the maid and the great Thelma Todd talking about \\girl\\\" stuff.<br /><br />If you really want to see the boys at their most creative and funny check out Blotto, or Brats From the same year.<br /><br />They made so many shorts in such a short time that I think they can be forgiven for turning out a few less then par shorts. They made something like 108 films altogether. Very few (except for the ones made at FOX) were outright failures but there are some. County Hospital, Me And My Pal, The Live Ghost, The Fixer Uppers come to mind as essentially weak ones. But other then those I find something wonderful in just about all their shorts. Quite a record in my book.<br /><br />If you have seen and enjoyed all their other shorts then by all means check this one out, but I would be willing to bet that this one was less then memorable to Stan and Babe.\"\n",
      "* * * * * * * * * \n",
      "9811\n",
      "If you want to know what kind of music white people listened to in 1974, this is the movie for you. But you'll have to listen to a lot of flutes and violins, too (see my remarks on My Girl 1 for the reference).<br /><br />Indulgent admission: I approached My Girl 2 with cynicism and annoyance, having just viewed its predecessor. But as an adoptee preparing to finally set upon a search for my birthmother, My Girl 2 made me look, with its theme of searching for mother.<br /><br />Put another way, anything I liked about My Girl 2 had nothing whatsoever to do with My Girl 2, but relating to a protagonist who asks, like so many adoptees, \\who's my mama\\\"? And if there are home movies of my mom in an acting troupe, I'll be sure to make my own movie about it.<br /><br />People are listless. Movies should not be listless. My Girl 2 (like My Girl 1) is just...listless.<br /><br />Avoid unless you're a complete sap who's comforted by a series of small annoyances.\"\n",
      "* * * * * * * * * \n",
      "10528\n",
      "Woman (Miriam Hopkins as Virginia) chases Man (Joel McCrea as Kenneth) for father (Charles Winninger as B.J.). Woman wants to get Man to invest some of deceased mother's money in father's business venture; but, father is notorious for losing money on hair-brained schemes. Little does anyone know, but real evil schemers are posing as Man's best friends in order to steal his fortune...<br /><br />The production looks engaging, but the story fails to engage. The players don't play drunk well. Notable as Broderick Crawford's first appearance - as gopher \\Hunk\\\"; other than running errands, Mr. Crawford gets pinned to the floor by Mr. McCrea. <br /><br />*** Woman Chases Man (4/28/37) John G. Blystone ~ Miriam Hopkins, Joel McCrea, Charles Winninger, Broderick Crawford\"\n",
      "* * * * * * * * * \n",
      "10812\n",
      "Taped this late night movie when I was in grade 11, watched it on fast forward. I sugest you do the same. I though it would be and action film, but went to a cort tv type movie. In the end it fits in with the early 70's social activest type films. Glad I missed that era. 2/10\n",
      "* * * * * * * * * \n",
      "11245\n",
      "***SPOILER*** Do not read this, if you think about watching that movie, although it would be a waste of time. (By the way: The plot is so predictable that it does not make any difference if you read this or not anyway)<br /><br />If you are wondering whether to see \\Coyote Ugly\\\" or not: don't! It's not worth either the money for the ticket or the VHS / DVD. A typical \\\"Chick-Feel-Good-Flick\\\", one could say. The plot itself is as shallow as it can be, a ridiculous and uncritical version of the American Dream. The young good-looking girl from a small town becoming a big success in New York. The few desperate attempts of giving the movie any depth fail, such as the \\\"tragic\\\" accident of the father, the \\\"difficulties\\\" of Violet's relationship with her boyfriend, and so on. McNally (Director) tries to arouse the audience's pity and sadness put does not have any chance to succeed in this attempt due to the bad script and the shallow acting. Especially Piper Perabo completely fails in convincing one of \\\"Jersey's\\\" fear of singing in front of an audience. The only good (and quite funny thing) about \\\"Coyote Ugly\\\" is John Goodman, who represents the small ray of hope of this movie.<br /><br />I was very astonished, that Jerry Bruckheimer produced this movie. First \\\"Gone In 60 Seconds\\\" and now this... what happened to great movies like \\\"The Rock\\\" and \\\"Con Air\\\"? THAT was true Bruckheimer stuff.<br /><br />If you are looking for a superficial movie with good looking women just to have a relaxed evening, you should better go and see \\\"Charlie's Angels\\\" (it's much more funny, entertaining and self-ironic) instead of this flick.<br /><br />Two thumbs down (3 out of 10).\"\n",
      "* * * * * * * * * \n",
      "11332\n",
      "This movie contains no humor for anyone who has lived with a family member who has a mental illness. So many scenes reminded me too graphically of my own life experiences. This movie was the man's version of \\Mommy Dearest.\\\" It depicts both graphically and accurately the life many children of a mentally ill parent goes through. It also shows how easy it is for a psychiatrist to become corrupt and act like they are God. <br /><br />Someone told me it was funny. No way, I say! It is sick humor at best. <br /><br />The movie is so intense and depressing that my son and I had to leave the room. The best use for this movie is for people who don't understand mental illness or don't believe what we families actually do live through.\"\n",
      "* * * * * * * * * \n",
      "11431\n",
      "Best of the Best 4, is better than 3, but just barely. Basically, I say this because part 4 doesn't contradict parts 1/2 (like 3 does), (ie. their is no reference to Tommy Lee having siblings).<br /><br />Anyway, I liked the Russian plot line of the story, and especially Sven Ole-Thorsen's bit part as Boris. Aside from that though and a few fighting scenes, the movie is nothing special. The limited budget is also very noticeable (especially in the airplane blow-up scene).<br /><br />Also, part 4 does not really have a moral or say anything like part 3 did, there are a couple of more better known actors (Hudson, Thorsen) in part 4, but alas nothing like the beginning of the series (and even these characters have very small roles).<br /><br />Alas, it seems Best of the Best is the Rhee show, and to be truthful, he cannot carry a movie.<br /><br />Saw on tape, Rating:4\n",
      "* * * * * * * * * \n",
      "12184\n",
      "It was 1974 and it starred Martin Sheen.<br /><br />That alone says what to expect of this movie.<br /><br />And it was a movie. According to the movie, Slovik had reformed, got a good woman, and didn't want to fight.<br /><br />In real life, Slovik may have been a naive innocent, or he may have just wanted to manipulate the system.<br /><br />Whoever Slovik was or wasn't is for history to decide, but this was a movie that dealt with dessertion at a time when a country was questioning why it was fighting, and the movie took sides.<br /><br />With no regard to servicemen who were in Viet Nam either in 1974 (as Willie Nelson would say, let's tell the truth, it was about the Viet Nam war, not WWII), EoES was as propagandistic as Gung Ho was in the forties.<br /><br />According to this movie, Slovik stated his position, plain and simple. He had a nervous problem. Heck, I have a clinical nervous condition, and trust me, if I had done military duty, it would have been no problem for me to either just let my nerves go and fail at my tasks and get a demotion or put on KP duty or latrine duty with no problem.<br /><br />If we believe the teleflick, Slovik didn't have that option, no doubt because of his criminal history.<br /><br />Whatever the viewer wants to believe is up to the viewer. I've learned that movies from this decade or that decade, in dealing with service or military duty, will pretty much take the same stance over and over.<br /><br />1940s and 1950s, serve your country.<br /><br />1960s and 1970s, mock your country.<br /><br />This is the history.<br /><br />The whole movie seemed predictably Hollywood to me. He refused to serve and only when he was being strapped up to be executed does he show emotion.<br /><br />Such an emotional outburst could have easily worked to his advantage in his declaration of his nervous condition, but obviously the movie wanted to show him as a human being and only when he is about to die does he become sorrowful.<br /><br />I'm not a Catholic, but I thought the recital of the hail Mary by Ned Beatty and Sheen at the end, with the Lord's prayer, was funny as it sounded like they were trying to see who could say it faster.<br /><br />I don't see how this movie could be watched without realizing it was aimed at Tricky Dick Nixon and the Viet Nam war.<br /><br />I hope it was all worth it for Slovik and anyone who chose to follow his example.\n",
      "* * * * * * * * * \n",
      "12334\n",
      "I wonder who, how and more importantly why the decision to call Richard Attenborough to direct the most singular sensation to hit Broadway in many many years? He's an Academy Award winning director. Yes, he won for Ghandi you moron! Jeremy Irons is an Academy winning actor do you want to see him play Rocky Balboa? He has experience with musicals. Really? \\Oh what a lovely war\\\" have you forgotten? To answer your question, yes! The film is a disappointment, clear and simple. Not an ounce of the live energy survived the heavy handedness of the proceedings. Every character danced beautifully they were charming but their projection was theatrical. I felt nothing. But when I saw it on stage I felt everything. The film should have been cast with stars, unknown, newcomers but stars with compelling unforgettable faces even the most invisible of the group. Great actors who could dance beautifully. Well Michael Douglas was in it. True I forgot I'm absolutely wrong and you are absolutely right. Nothing like a Richard Attenborough Michael Douglas musical.\"\n",
      "* * * * * * * * * \n",
      "12844\n",
      "does anyone think that this show actually helps some people, or does it only anger the people who watch it? when i am flipping through the channels and come upon this show i half to watch out of morbid curiosity. i understand that pat Roberson is not all together. what i do not know is if his viewers are like him or if they are good people and think they will have a better life if they listening to what he has to say. pat Roberson is of little consequence. he is an old man who thinks in an old way. fear of damnation no longer has the same affects as it once did (thank god). now if someone will please answer my question i will be dodging lightning bolts for the rest of eternity.\n",
      "* * * * * * * * * \n",
      "13186\n",
      "First of all, yes, animals have emotions. If you didn't know that already, then I believe you are a moron. But let's assume that none of us are morons. We all know that animals have emotions, and we now want to see how these emotions are manifest in nature, correct?<br /><br />What we get instead is a tedious and ridiculously simplistic documentary that attempts to show how animals are \\human\\\". The filmmakers search high & low for footage of animals engaged in human-like behaviour, and when it happens they say, \\\"That monkey is almost human!\\\" (that's actually a direct quote).<br /><br />Everything is in human terms. They waste time theorizing about what makes dogs \\\"smile\\\", but not once do they mention what a wagging tail means. The arrogance of these researchers is disgusting. They even go so far as to show chimpanzees dressed in human clothing and wearing a cowboy hat.<br /><br />I had been expecting an insightful documentary of animals on their own terms. I wanted to learn how animals emote in their OWN languages. But instead, researchers keep falling back on pedantic, anthropomorphic observations and assumptions. Add a cheezy soundtrack and images of chimps \\\"celebrating Christmas\\\", and this was enough to turn my stomach.<br /><br />But it doesn't end there. Half of this documentary is filmed not in the wild but in laboratories and experimental facilities. All the camera shots of chimps are through steel bars, and we see how these monkeys are crowded together in their sterile concrete cages. One particularly sobering moment happens near the beginning (though you have to be quick to notice it) where a captive monkey says in sign language, \\\"Want out. Hurry go.\\\"<br /><br />Obscure references are made to \\\"stress tests\\\" and psychological experiments which I shudder to imagine. Baby monkeys are separated from their mothers at birth and are given wireframe dolls in order to prove that baby monkeys crave a \\\"mother figure\\\". And after 40 years of experiments, the smug researchers pat themselves on the back for reaching their brilliant conclusion: monkeys have emotions.<br /><br />One chimp named \\\"Washoe\\\" has been in a concrete cage since 1966 for that purpose, and to this day she remains thus. We get a brief glimpse (again through bars) of her leaning against a concrete wall with a rather lackluster expression. Personally, I don't need to see any further experimental data. Washoe, I apologize for our entire species.\"\n",
      "* * * * * * * * * \n",
      "13775\n",
      "This movie is terrible but it has some good effects.\n",
      "* * * * * * * * * \n",
      "14103\n",
      "Will Farmer (Lanter) plays a computer game that simulates a terrorist attack, and Ripley, the super government computer, designed to profile potential terrorists, tracks him because Will borrowed (by hacking) some money from his next door neighbor's bank account to pay for a class trip to play chess in Philadelphia. The next door neighbor whose computer Will was fixing, has relatives in the mid-east who thru their bank send money to the neighbor's bank , and Ripley sees a terrorist connection. Ripley has the power to call up missile strikes. Oh, oh!<br /><br />This version of War Games has a much faster pace and more aggressiveness than the War Games movie in the early 1980s. Well, the electronic industry has so much more to work with these days. Makes sense. So the movie dazzles us with fantastic CGI on computer screens, and once Joshua, the forerunner to Ripley, is found operational, we are left with watching computer against computer and the humans are cringing, hoping, praying",
      ".sort of, oh-oh-ing, OMG-ing, and more cringing hoping things will go their way. In other words we are now experiencing a made-for-TV type movie, and it's Oh Hum Time. Go back to the 1980s and watch the original War Games movie. It's much better. <br /><br />But, we really have to ask ourselves: are we making computers too intelligent where one day, in time, they will rule us? Hmmm",
      "",
      "",
      "..<br /><br />Violence: Yes. Sex: No. Nudity: No. Language: No.\n",
      "* * * * * * * * * \n",
      "14497\n",
      "I agree with most if not all of the previous commenter's Tom (bighouseaz@yahoo.com). The Zatoichi series is a great character study combined with great sword fighting and excitement.<br /><br />I have seen Zatoichi 1-13,15,16; I believe 14 has not been released on Zone 1 (usa). Zatoichi the Outlaw was disappointing. The story line was complicated, and seemed to be a hodgepodge of many previous Zatoichi story lines. At one point, I was wondering if I was not seeing a remake of a previous Zatoichi film.<br /><br />This film was disappointing because it started to depend on effects (a head rolling, limbs severed, blood) and less on the nobility of the Zatoichi character. All the previous films succeeded based on the storyline and action, and won a great following without having to resort to effects.<br /><br />I am just hoping that the remaining Zatoichi films do NOT follow the same trend. This is the first Zatoichi film from his studio. I highly recommend all the previous Zatoichi films -- and recommend them.\n",
      "* * * * * * * * * \n",
      "15424\n",
      "The only aspect of this film that saves it from being my least favorite piece of celluloid trash is a single line uttered by an agent attempting to infiltrate the man-eating tomatoes by dressing in a tomato costume: \\Can somebody please pass the ketchup?\\\" I highly urge anyone with a sleeping disorder to use this film as a sedative; it works better than an overdose of demarol.\"\n",
      "* * * * * * * * * \n",
      "15494\n",
      "As soon as it hits a screen, it destroys all intelligent life forms around ! But on behalf of its producers I must say it doesn't fall into any known movie category, it deserves a brand new denomination of its own ! It's a \\Neurological drama\\\" ! It saddens and depresses every single neuron inside a person's brain.<br /><br />It's the closest thing one will ever get to a stroke without actually suffering one. It drives you speechless, all you members go numb, your mouth falls open and remains so, and the most strange symptom of all is that you get yourself wishing to go blind and deaf.<br /><br />No small feat for such a sort of a \\\"movie\\\".<br /><br />The only word that comes to my mind just having finished my ordeal is OUTRAGE !!!!!!\"\n",
      "* * * * * * * * * \n",
      "15727\n",
      "A few years back the same persons who created Paris,J'TAIME., which was imperfect but very enjoyable ( my rating was a 7), created this piece of garbage about New York City.<br /><br />In Paris, I Love You (J'taime)created a feeling for Paris & it was made in many parts of beautiful Paris.<br /><br />In this current film, I did not recognize New York City, I did not feel that I was in the city of my birth.<br /><br />New York does have 5 boroughs,I saw no scenes in The Bronx, or Queens ,There is one scene in Brooklyn,(Brighton Beach), I saw no scenes in Times Square or Greenwich Village/ No scenes of the beautiful hotels or theatres. It does have a large cast,most of the performers were not even stereotypes, they were caricatures of the lowest sort.<br /><br />The very few humorous moments are all of a course sexual nature or quite insulting to the many fine New Yorkers that we all know & love.. <br /><br />A few of the films nominated for the 'razzie' awards were far better.<br /><br />Ratings: * (out of 4) 20 points (out of 100) IMDb 1 (Out of 10)<br /><br />In my way of thinking I think the title should have been<br /><br />NEW YORK, I HATE YOU.\n",
      "* * * * * * * * * \n",
      "16017\n",
      "now don't get me wrong, i do enjoy christmas movies. i love its a wonderful life and i really enjoy the versions of a christmas carol with george c. scott and alistair sim. but this particular movie is awful. i think the i love life song the ghost of christmas present sings is especially painful. albert finney sings fairly well in annie. i don't know whats wrong with him in this movie but it sounds as though someone is trying to sing through a mouthful of dead gerbils. the only thing that saved this movie for us was shutting the sound off and watching the dance numbers accompanied by the south park christmas cd.\n",
      "* * * * * * * * * \n",
      "16250\n",
      "This version is pretty insipid, I'm afraid. Jane Eyre is one of my favorite books and has been since childhood, but William Hurt's weary, throwaway acting style is completely unsuitable to the bold passion of Edward Rochester and poor Charlotte Gainsbrough looks like a bored, petulant teenager whose dental braces hurt! I also can't believe that they eliminated Edward's great marriage proposal scene from the end of the book, one of the most moving moments in literature. I do appreciate that they finally used such a young, plain woman to play Jane, a character who is supposed to be a worldly 18, but if you want to see a version that closer approximates the personalities and passions of the novel, please see the 70's version with George C. Scott and Susannah York. York was too old, tall and pretty to play Jane, but no one has touched Rochester's character the way that Scott did.\n",
      "* * * * * * * * * \n",
      "16387\n",
      "This is definitely a stupid, bad-taste movie. Eddie Murphy stars in what is written like a sitcom. He is surrounded with his perfect family, full of good family values. If you're looking for politically correct entertainment, this movie is for you. But if you hate the idea of being the only one not to laugh at obscene gags in a movie-theater full of pop-corn addicts, just flee.\n",
      "* * * * * * * * * \n",
      "16830\n",
      "Råzone is an awful movie! It is so simple. It seems they tried to make a movie to show the reel life. Just like Zappa did many years ago. But unfortunately Denmark lacks good young actors. Leon are by many still the little girl in \\krummernes Jul\\\", and Laura is simply not good enough to play such an important role. several times in the movie she plays with out soul and this is destroying the movie!<br /><br />Even though i consider it a movie you ought to see. I do not agree that the youth are behaving like this, but i think it can show how it can end, if you are letting your child down. Also it is important to support danish movies and new companies like \\\"Film folket\\\"!<br /><br />all in all I think people should see Råzone. Not because it is a great film, but because it is a movies which is dealing with important themes. I also think it is important to point out that there are some violent scenes in it, and actually it is in these scenes, Laura is acting best. - like the ending where she is holding the gun!\"\n",
      "* * * * * * * * * \n",
      "17796\n",
      "Marie Dressler carries this Depression-era drama about a kindly bank owner, which recently aired on TCM during their April Fools comedy month. If you come with the expectation of big laughs courtesy the Dressler-Polly Moran team, you'll be disappointed, as this is really a very downbeat film. It's also very poorly made, surprisingly so considering it came from MGM. Leonard Smith's bare bones cinematography is strictly from the 'set up the camera and don't move it' school, frequently to the detriment of the cast, who find themselves delivering lines off screen (it's like a pan and scan print before such existed!) or having their heads cut off. The film doesn't even have a credited director, underlying the apparent fly by night nature of the production. Overall, it's an unsatisfying mess, with Dressler frequently over-emoting and only that bizarre, final reel dash to the bathroom to set it apart.\n",
      "* * * * * * * * * \n"
     ]
    },
    {
     "name": "stdout",
     "output_type": "stream",
     "text": [
      "18422\n",
      "Everything in this film is bad , the story , the acting , the effects but its funny , funny , funny !!!Scott Valentine with the army uniform thats ten sizes too big is so bad with the permanent attempt at a scowl on his face as the leader of a special ops group its hilarious ! The ''terrorists'' are as scary and realistic as the ''raptors'' , this is so phoney and bad at everything it tries you have to laugh .The part where the giant T-REX who somehow snuck on board a ship and then somehow got below is blown up and you see the metal pole sticking up where its head was is the perfect ending .If your into bad films , this is the pot of gold , the mona lisa of b-b-bad !!!\n",
      "* * * * * * * * * \n"
     ]
    }
   ],
   "source": [
    "# false positives\n",
    "\n",
    "print(\"Examples of false positives:\")\n",
    "\n",
    "import random, time\n",
    "\n",
    "for i in range(0, len(prc_predictions)):\n",
    "    if (prc_predictions[i] == 1):\n",
    "        if (X_raw_train.iloc[i]['sentiment'] == 0):\n",
    "            if (random.uniform(0, 1) < 0.05): # to print only 5% of the false positives\n",
    "                print(i)\n",
    "                print(X_raw_train.iloc[i]['review'])\n",
    "                print('* * * * * * * * * ')\n"
   ]
  },
  {
   "cell_type": "markdown",
   "metadata": {},
   "source": [
    "---\n",
    "\n",
    "# <span style=\"color:red\">WARNING: Don't look at test set performance too much!</span>\n",
    "\n",
    "---\n",
    "\n",
    "The following cells show performance on your test set. Do not look at this too often! "
   ]
  },
  {
   "cell_type": "markdown",
   "metadata": {},
   "source": [
    "# Look at performance on the test set"
   ]
  },
  {
   "cell_type": "markdown",
   "metadata": {},
   "source": [
    "### MODEL: ordinary least squares"
   ]
  },
  {
   "cell_type": "code",
   "execution_count": 39,
   "metadata": {},
   "outputs": [
    {
     "name": "stdout",
     "output_type": "stream",
     "text": [
      "{'Pos': 2470, 'Neg': 2530, 'TP': 1244, 'TN': 1253, 'FP': 1277, 'FN': 1226, 'Accuracy': 0.4994, 'Precision': 0.4934549781832606, 'Recall': 0.5036437246963563, 'desc': 'ols_test'}\n"
     ]
    }
   ],
   "source": [
    "ols_performance_test = BinaryClassificationPerformance(ols.predict(X_test), y_test, 'ols_test')\n",
    "ols_performance_test.compute_measures()\n",
    "print(ols_performance_test.performance_measures)"
   ]
  },
  {
   "cell_type": "markdown",
   "metadata": {},
   "source": [
    "### MODEL: SVM, linear"
   ]
  },
  {
   "cell_type": "code",
   "execution_count": 40,
   "metadata": {},
   "outputs": [
    {
     "name": "stdout",
     "output_type": "stream",
     "text": [
      "{'Pos': 2470, 'Neg': 2530, 'TP': 1987, 'TN': 1900, 'FP': 630, 'FN': 483, 'Accuracy': 0.7774, 'Precision': 0.7592663354986626, 'Recall': 0.8044534412955465, 'desc': 'svm_test'}\n"
     ]
    }
   ],
   "source": [
    "svm_performance_test = BinaryClassificationPerformance(svm.predict(X_test), y_test, 'svm_test')\n",
    "svm_performance_test.compute_measures()\n",
    "print(svm_performance_test.performance_measures)"
   ]
  },
  {
   "cell_type": "markdown",
   "metadata": {},
   "source": [
    "### MODEL: SVC"
   ]
  },
  {
   "cell_type": "code",
   "execution_count": 71,
   "metadata": {},
   "outputs": [
    {
     "name": "stdout",
     "output_type": "stream",
     "text": [
      "{'Pos': 2470, 'Neg': 2530, 'TP': 2187, 'TN': 2216, 'FP': 314, 'FN': 283, 'Accuracy': 0.8806, 'Precision': 0.8744502199120352, 'Recall': 0.8854251012145749, 'desc': 'svc_test'}\n"
     ]
    }
   ],
   "source": [
    "svc_performance_test = BinaryClassificationPerformance(svc.predict(X_test), y_test, 'svc_test')\n",
    "svc_performance_test.compute_measures()\n",
    "print(svc_performance_test.performance_measures)"
   ]
  },
  {
   "cell_type": "code",
   "execution_count": 72,
   "metadata": {},
   "outputs": [
    {
     "name": "stdout",
     "output_type": "stream",
     "text": [
      "{'Pos': 2470, 'Neg': 2530, 'TP': 1831, 'TN': 2374, 'FP': 156, 'FN': 639, 'Accuracy': 0.841, 'Precision': 0.9214896829391042, 'Recall': 0.7412955465587044, 'desc': 'svc_test1'}\n"
     ]
    }
   ],
   "source": [
    "svc_performance_test1 = BinaryClassificationPerformance(svc1.predict(X_test), y_test, 'svc_test1')\n",
    "svc_performance_test1.compute_measures()\n",
    "print(svc_performance_test1.performance_measures)"
   ]
  },
  {
   "cell_type": "code",
   "execution_count": 80,
   "metadata": {},
   "outputs": [
    {
     "name": "stdout",
     "output_type": "stream",
     "text": [
      "{'Pos': 2470, 'Neg': 2530, 'TP': 1591, 'TN': 2438, 'FP': 92, 'FN': 879, 'Accuracy': 0.8058, 'Precision': 0.9453357100415924, 'Recall': 0.6441295546558704, 'desc': 'svc_test2'}\n"
     ]
    }
   ],
   "source": [
    "svc_performance_test2 = BinaryClassificationPerformance(svc2.predict(X_test), y_test, 'svc_test2')\n",
    "svc_performance_test2.compute_measures()\n",
    "print(svc_performance_test2.performance_measures)"
   ]
  },
  {
   "cell_type": "code",
   "execution_count": 74,
   "metadata": {},
   "outputs": [
    {
     "name": "stdout",
     "output_type": "stream",
     "text": [
      "{'Pos': 2470, 'Neg': 2530, 'TP': 2466, 'TN': 3, 'FP': 2527, 'FN': 4, 'Accuracy': 0.4938, 'Precision': 0.4938914480272381, 'Recall': 0.9983805668016195, 'desc': 'svc_test3'}\n"
     ]
    }
   ],
   "source": [
    "svc_performance_test3 = BinaryClassificationPerformance(svc3.predict(X_test), y_test, 'svc_test3')\n",
    "svc_performance_test3.compute_measures()\n",
    "print(svc_performance_test3.performance_measures)"
   ]
  },
  {
   "cell_type": "code",
   "execution_count": 78,
   "metadata": {},
   "outputs": [
    {
     "name": "stdout",
     "output_type": "stream",
     "text": [
      "{'Pos': 2470, 'Neg': 2530, 'TP': 1588, 'TN': 2439, 'FP': 91, 'FN': 882, 'Accuracy': 0.8054, 'Precision': 0.9458010720667064, 'Recall': 0.642914979757085, 'desc': 'svc_test4'}\n"
     ]
    }
   ],
   "source": [
    "svc_performance_test4 = BinaryClassificationPerformance(svc4.predict(X_test), y_test, 'svc_test4')\n",
    "svc_performance_test4.compute_measures()\n",
    "print(svc_performance_test4.performance_measures)"
   ]
  },
  {
   "cell_type": "code",
   "execution_count": 50,
   "metadata": {},
   "outputs": [
    {
     "name": "stdout",
     "output_type": "stream",
     "text": [
      "{'Pos': 2470, 'Neg': 2530, 'TP': 2044, 'TN': 1855, 'FP': 675, 'FN': 426, 'Accuracy': 0.7798, 'Precision': 0.7517469657962487, 'Recall': 0.8275303643724696, 'desc': 'svc_test5'}\n"
     ]
    }
   ],
   "source": [
    "svc_performance_test5 = BinaryClassificationPerformance(svc5.predict(X_test), y_test, 'svc_test5')\n",
    "svc_performance_test5.compute_measures()\n",
    "print(svc_performance_test5.performance_measures)"
   ]
  },
  {
   "cell_type": "markdown",
   "metadata": {},
   "source": [
    "### MODEL: logistic regression"
   ]
  },
  {
   "cell_type": "code",
   "execution_count": 51,
   "metadata": {},
   "outputs": [
    {
     "name": "stdout",
     "output_type": "stream",
     "text": [
      "{'Pos': 2470, 'Neg': 2530, 'TP': 1954, 'TN': 1978, 'FP': 552, 'FN': 516, 'Accuracy': 0.7864, 'Precision': 0.7797286512370312, 'Recall': 0.7910931174089069, 'desc': 'lgs_test'}\n"
     ]
    }
   ],
   "source": [
    "lgs_performance_test = BinaryClassificationPerformance(lgs.predict(X_test), y_test, 'lgs_test')\n",
    "lgs_performance_test.compute_measures()\n",
    "print(lgs_performance_test.performance_measures)"
   ]
  },
  {
   "cell_type": "markdown",
   "metadata": {},
   "source": [
    "### MODEL: Naive Bayes"
   ]
  },
  {
   "cell_type": "code",
   "execution_count": 52,
   "metadata": {},
   "outputs": [
    {
     "name": "stdout",
     "output_type": "stream",
     "text": [
      "{'Pos': 2470, 'Neg': 2530, 'TP': 1954, 'TN': 1943, 'FP': 587, 'FN': 516, 'Accuracy': 0.7794, 'Precision': 0.7689885871704053, 'Recall': 0.7910931174089069, 'desc': 'nbs_test'}\n"
     ]
    }
   ],
   "source": [
    "nbs_performance_test = BinaryClassificationPerformance(nbs.predict(X_test), y_test, 'nbs_test')\n",
    "nbs_performance_test.compute_measures()\n",
    "print(nbs_performance_test.performance_measures)"
   ]
  },
  {
   "cell_type": "markdown",
   "metadata": {},
   "source": [
    "### MODEL: Perceptron"
   ]
  },
  {
   "cell_type": "code",
   "execution_count": 53,
   "metadata": {},
   "outputs": [
    {
     "name": "stdout",
     "output_type": "stream",
     "text": [
      "{'Pos': 2470, 'Neg': 2530, 'TP': 1432, 'TN': 2198, 'FP': 332, 'FN': 1038, 'Accuracy': 0.726, 'Precision': 0.8117913832199547, 'Recall': 0.5797570850202429, 'desc': 'prc_test'}\n"
     ]
    }
   ],
   "source": [
    "prc_performance_test = BinaryClassificationPerformance(prc.predict(X_test), y_test, 'prc_test')\n",
    "prc_performance_test.compute_measures()\n",
    "print(prc_performance_test.performance_measures)"
   ]
  },
  {
   "cell_type": "markdown",
   "metadata": {},
   "source": [
    "### MODEL: Ridge Regression Classifier"
   ]
  },
  {
   "cell_type": "code",
   "execution_count": 54,
   "metadata": {},
   "outputs": [
    {
     "name": "stdout",
     "output_type": "stream",
     "text": [
      "{'Pos': 2470, 'Neg': 2530, 'TP': 2066, 'TN': 1981, 'FP': 549, 'FN': 404, 'Accuracy': 0.8094, 'Precision': 0.790057361376673, 'Recall': 0.8364372469635628, 'desc': 'rdg_test'}\n"
     ]
    }
   ],
   "source": [
    "rdg_performance_test = BinaryClassificationPerformance(rdg.predict(X_test), y_test, 'rdg_test')\n",
    "rdg_performance_test.compute_measures()\n",
    "print(rdg_performance_test.performance_measures)"
   ]
  },
  {
   "cell_type": "code",
   "execution_count": 55,
   "metadata": {},
   "outputs": [
    {
     "name": "stdout",
     "output_type": "stream",
     "text": [
      "{'Pos': 2470, 'Neg': 2530, 'TP': 2066, 'TN': 1981, 'FP': 549, 'FN': 404, 'Accuracy': 0.8094, 'Precision': 0.790057361376673, 'Recall': 0.8364372469635628, 'desc': 'rdg_test1'}\n"
     ]
    }
   ],
   "source": [
    "rdg_p_test1 = BinaryClassificationPerformance(rdg_1.predict(X_test), y_test, 'rdg_test1')\n",
    "rdg_p_test1.compute_measures()\n",
    "print(rdg_p_test1.performance_measures)"
   ]
  },
  {
   "cell_type": "code",
   "execution_count": 56,
   "metadata": {},
   "outputs": [
    {
     "name": "stdout",
     "output_type": "stream",
     "text": [
      "{'Pos': 2470, 'Neg': 2530, 'TP': 2065, 'TN': 1983, 'FP': 547, 'FN': 405, 'Accuracy': 0.8096, 'Precision': 0.7905819295558959, 'Recall': 0.8360323886639676, 'desc': 'rdg_test2'}\n"
     ]
    }
   ],
   "source": [
    "rdg_p_test2 = BinaryClassificationPerformance(rdg_2.predict(X_test), y_test, 'rdg_test2')\n",
    "rdg_p_test2.compute_measures()\n",
    "print(rdg_p_test2.performance_measures)"
   ]
  },
  {
   "cell_type": "code",
   "execution_count": 57,
   "metadata": {},
   "outputs": [
    {
     "name": "stdout",
     "output_type": "stream",
     "text": [
      "{'Pos': 2470, 'Neg': 2530, 'TP': 2065, 'TN': 1983, 'FP': 547, 'FN': 405, 'Accuracy': 0.8096, 'Precision': 0.7905819295558959, 'Recall': 0.8360323886639676, 'desc': 'rdg_test3'}\n"
     ]
    }
   ],
   "source": [
    "rdg_p_test3 = BinaryClassificationPerformance(rdg_3.predict(X_test), y_test, 'rdg_test3')\n",
    "rdg_p_test3.compute_measures()\n",
    "print(rdg_p_test3.performance_measures)"
   ]
  },
  {
   "cell_type": "code",
   "execution_count": 58,
   "metadata": {},
   "outputs": [
    {
     "name": "stdout",
     "output_type": "stream",
     "text": [
      "{'Pos': 2470, 'Neg': 2530, 'TP': 2052, 'TN': 2010, 'FP': 520, 'FN': 418, 'Accuracy': 0.8124, 'Precision': 0.7978227060653188, 'Recall': 0.8307692307692308, 'desc': 'rdg_test4'}\n"
     ]
    }
   ],
   "source": [
    "rdg_p_test4 = BinaryClassificationPerformance(rdg_4.predict(X_test), y_test, 'rdg_test4')\n",
    "rdg_p_test4.compute_measures()\n",
    "print(rdg_p_test4.performance_measures)"
   ]
  },
  {
   "cell_type": "code",
   "execution_count": 59,
   "metadata": {},
   "outputs": [
    {
     "name": "stdout",
     "output_type": "stream",
     "text": [
      "{'Pos': 2470, 'Neg': 2530, 'TP': 2077, 'TN': 2012, 'FP': 518, 'FN': 393, 'Accuracy': 0.8178, 'Precision': 0.8003853564547206, 'Recall': 0.8408906882591093, 'desc': 'rdg_test5'}\n"
     ]
    }
   ],
   "source": [
    "rdg_p_test5 = BinaryClassificationPerformance(rdg_5.predict(X_test), y_test, 'rdg_test5')\n",
    "rdg_p_test5.compute_measures()\n",
    "print(rdg_p_test5.performance_measures)"
   ]
  },
  {
   "cell_type": "markdown",
   "metadata": {},
   "source": [
    "### MODEL: Random Forest Classifier"
   ]
  },
  {
   "cell_type": "code",
   "execution_count": 60,
   "metadata": {},
   "outputs": [
    {
     "name": "stdout",
     "output_type": "stream",
     "text": [
      "{'Pos': 2470, 'Neg': 2530, 'TP': 1927, 'TN': 1735, 'FP': 795, 'FN': 543, 'Accuracy': 0.7324, 'Precision': 0.7079353416605437, 'Recall': 0.780161943319838, 'desc': 'rdf_test'}\n"
     ]
    }
   ],
   "source": [
    "rdf_performance_test = BinaryClassificationPerformance(rdf.predict(X_test), y_test, 'rdf_test')\n",
    "rdf_performance_test.compute_measures()\n",
    "print(rdf_performance_test.performance_measures)"
   ]
  },
  {
   "cell_type": "markdown",
   "metadata": {},
   "source": [
    "### ROC plot to compare performance of various models and fits"
   ]
  },
  {
   "cell_type": "code",
   "execution_count": 81,
   "metadata": {},
   "outputs": [
    {
     "data": {
      "image/png": "[encoded data removed]",
      "text/plain": [
       "<Figure size 640x480 with 1 Axes>"
      ]
     },
     "metadata": {},
     "output_type": "display_data"
    }
   ],
   "source": [
    "fits = [svc_performance_test, svc_performance_test1, svc_performance_test2, svc_performance_test3, svc_performance_test4, svc_performance_test5]\n",
    "\n",
    "for fit in fits:\n",
    "    plt.plot(fit.performance_measures['FP'] / fit.performance_measures['Neg'], \n",
    "             fit.performance_measures['TP'] / fit.performance_measures['Pos'], 'bo')\n",
    "    plt.text(fit.performance_measures['FP'] / fit.performance_measures['Neg'], \n",
    "             fit.performance_measures['TP'] / fit.performance_measures['Pos'], fit.desc)\n",
    "plt.axis([0, 1, 0, 1])\n",
    "plt.title('ROC plot: test set')\n",
    "plt.xlabel('False positive rate')\n",
    "plt.ylabel('True positive rate')\n",
    "plt.show()"
   ]
  },
  {
   "cell_type": "markdown",
   "metadata": {},
   "source": [
    "---\n",
    "\n",
    "# <span style=\"color:red\">SUBMISSION</span>\n",
    "\n",
    "---"
   ]
  },
  {
   "cell_type": "code",
   "execution_count": 82,
   "metadata": {},
   "outputs": [
    {
     "name": "stdout",
     "output_type": "stream",
     "text": [
      "movie_data is: <class 'pandas.core.frame.DataFrame'>\n",
      "movie_data has 25000 rows and 3 columns \n",
      "\n",
      "the data types for each of the columns in movie_data:\n",
      "id           object\n",
      "sentiment     int64\n",
      "review       object\n",
      "dtype: object \n",
      "\n",
      "the first 10 rows in movie_data:\n",
      "       id  sentiment                                             review\n",
      "0  5814_8          1  With all this stuff going down at the moment w...\n",
      "1  2381_9          1  \\The Classic War of the Worlds\\\" by Timothy Hi...\n",
      "2  7759_3          0  The film starts with a manager (Nicholas Bell)...\n",
      "3  3630_4          0  It must be assumed that those who praised this...\n",
      "4  9495_8          1  Superbly trashy and wondrously unpretentious 8...\n",
      "Shape of HashingVectorizer X:\n",
      "(25000, 33554432)\n",
      "Look at a few rows of the new quantitative features: \n",
      "   word_count  punc_count\n",
      "0         433          20\n",
      "1         158          16\n",
      "2         378          20\n",
      "3         379           8\n",
      "4         367           9\n",
      "5          89           5\n",
      "6         112           9\n",
      "7         132           9\n",
      "8         163           7\n",
      "9          43           5\n",
      "Size of combined bag of words and new quantitative variables matrix:\n",
      "(25000, 33554434)\n",
      "(25000, 33554434)\n",
      "Shape of X_test for submission:\n",
      "(25000, 33554434)\n",
      "SUCCESS!\n",
      "Number of rows in the submission test set (should be 25,000): \n"
     ]
    }
   ],
   "source": [
    "# read in test data for submission\n",
    "# CHANGE FILE PATH and my_random_seed number (any integer other than 74 will do): \n",
    "raw_data, X_test_submission = process_raw_data(fn='moviereviews_train.tsv', my_random_seed=88, test=True)\n",
    "print(\"Number of rows in the submission test set (should be 25,000): \")"
   ]
  },
  {
   "cell_type": "markdown",
   "metadata": {},
   "source": [
    "---\n",
    "\n",
    "Choose a <span style=\"color:red\">*single*</span> model for your submission. In this code, I am choosing the Ordinary Least Squares model fit, which is in the `ols` object. But you should choose the model that is performing the best for you! "
   ]
  },
  {
   "cell_type": "code",
   "execution_count": 84,
   "metadata": {},
   "outputs": [
    {
     "name": "stdout",
     "output_type": "stream",
     "text": [
      "0.50112\n"
     ]
    }
   ],
   "source": [
    "# store the id from the raw data\n",
    "my_submission = pd.DataFrame(raw_data[\"id\"])\n",
    "# concatenate predictions to the id\n",
    "my_submission[\"prediction\"] = svc.predict(X_test_submission)\n",
    "# look at the proportion of positive predictions\n",
    "print(my_submission['prediction'].mean())"
   ]
  },
  {
   "cell_type": "code",
   "execution_count": 85,
   "metadata": {},
   "outputs": [
    {
     "data": {
      "text/html": [
       "<div>\n",
       "<style scoped>\n",
       "    .dataframe tbody tr th:only-of-type {\n",
       "        vertical-align: middle;\n",
       "    }\n",
       "\n",
       "    .dataframe tbody tr th {\n",
       "        vertical-align: top;\n",
       "    }\n",
       "\n",
       "    .dataframe thead th {\n",
       "        text-align: right;\n",
       "    }\n",
       "</style>\n",
       "<table border=\"1\" class=\"dataframe\">\n",
       "  <thead>\n",
       "    <tr style=\"text-align: right;\">\n",
       "      <th></th>\n",
       "      <th>id</th>\n",
       "      <th>sentiment</th>\n",
       "      <th>review</th>\n",
       "      <th>word_count</th>\n",
       "      <th>punc_count</th>\n",
       "    </tr>\n",
       "  </thead>\n",
       "  <tbody>\n",
       "    <tr>\n",
       "      <th>0</th>\n",
       "      <td>5814_8</td>\n",
       "      <td>1</td>\n",
       "      <td>With all this stuff going down at the moment w...</td>\n",
       "      <td>433</td>\n",
       "      <td>20</td>\n",
       "    </tr>\n",
       "    <tr>\n",
       "      <th>1</th>\n",
       "      <td>2381_9</td>\n",
       "      <td>1</td>\n",
       "      <td>\\The Classic War of the Worlds\\\" by Timothy Hi...</td>\n",
       "      <td>158</td>\n",
       "      <td>16</td>\n",
       "    </tr>\n",
       "    <tr>\n",
       "      <th>2</th>\n",
       "      <td>7759_3</td>\n",
       "      <td>0</td>\n",
       "      <td>The film starts with a manager (Nicholas Bell)...</td>\n",
       "      <td>378</td>\n",
       "      <td>20</td>\n",
       "    </tr>\n",
       "    <tr>\n",
       "      <th>3</th>\n",
       "      <td>3630_4</td>\n",
       "      <td>0</td>\n",
       "      <td>It must be assumed that those who praised this...</td>\n",
       "      <td>379</td>\n",
       "      <td>8</td>\n",
       "    </tr>\n",
       "    <tr>\n",
       "      <th>4</th>\n",
       "      <td>9495_8</td>\n",
       "      <td>1</td>\n",
       "      <td>Superbly trashy and wondrously unpretentious 8...</td>\n",
       "      <td>367</td>\n",
       "      <td>9</td>\n",
       "    </tr>\n",
       "  </tbody>\n",
       "</table>\n",
       "</div>"
      ],
      "text/plain": [
       "       id  sentiment                                             review  \\\n",
       "0  5814_8          1  With all this stuff going down at the moment w...   \n",
       "1  2381_9          1  \\The Classic War of the Worlds\\\" by Timothy Hi...   \n",
       "2  7759_3          0  The film starts with a manager (Nicholas Bell)...   \n",
       "3  3630_4          0  It must be assumed that those who praised this...   \n",
       "4  9495_8          1  Superbly trashy and wondrously unpretentious 8...   \n",
       "\n",
       "   word_count  punc_count  \n",
       "0         433          20  \n",
       "1         158          16  \n",
       "2         378          20  \n",
       "3         379           8  \n",
       "4         367           9  "
      ]
     },
     "execution_count": 85,
     "metadata": {},
     "output_type": "execute_result"
    }
   ],
   "source": [
    "raw_data.head()"
   ]
  },
  {
   "cell_type": "code",
   "execution_count": 86,
   "metadata": {},
   "outputs": [
    {
     "data": {
      "text/html": [
       "<div>\n",
       "<style scoped>\n",
       "    .dataframe tbody tr th:only-of-type {\n",
       "        vertical-align: middle;\n",
       "    }\n",
       "\n",
       "    .dataframe tbody tr th {\n",
       "        vertical-align: top;\n",
       "    }\n",
       "\n",
       "    .dataframe thead th {\n",
       "        text-align: right;\n",
       "    }\n",
       "</style>\n",
       "<table border=\"1\" class=\"dataframe\">\n",
       "  <thead>\n",
       "    <tr style=\"text-align: right;\">\n",
       "      <th></th>\n",
       "      <th>id</th>\n",
       "      <th>prediction</th>\n",
       "    </tr>\n",
       "  </thead>\n",
       "  <tbody>\n",
       "    <tr>\n",
       "      <th>0</th>\n",
       "      <td>5814_8</td>\n",
       "      <td>1</td>\n",
       "    </tr>\n",
       "    <tr>\n",
       "      <th>1</th>\n",
       "      <td>2381_9</td>\n",
       "      <td>1</td>\n",
       "    </tr>\n",
       "    <tr>\n",
       "      <th>2</th>\n",
       "      <td>7759_3</td>\n",
       "      <td>0</td>\n",
       "    </tr>\n",
       "    <tr>\n",
       "      <th>3</th>\n",
       "      <td>3630_4</td>\n",
       "      <td>0</td>\n",
       "    </tr>\n",
       "    <tr>\n",
       "      <th>4</th>\n",
       "      <td>9495_8</td>\n",
       "      <td>0</td>\n",
       "    </tr>\n",
       "  </tbody>\n",
       "</table>\n",
       "</div>"
      ],
      "text/plain": [
       "       id  prediction\n",
       "0  5814_8           1\n",
       "1  2381_9           1\n",
       "2  7759_3           0\n",
       "3  3630_4           0\n",
       "4  9495_8           0"
      ]
     },
     "execution_count": 86,
     "metadata": {},
     "output_type": "execute_result"
    }
   ],
   "source": [
    "my_submission.head()"
   ]
  },
  {
   "cell_type": "code",
   "execution_count": 87,
   "metadata": {},
   "outputs": [
    {
     "data": {
      "text/plain": [
       "(25000, 2)"
      ]
     },
     "execution_count": 87,
     "metadata": {},
     "output_type": "execute_result"
    }
   ],
   "source": [
    "my_submission.shape"
   ]
  },
  {
   "cell_type": "code",
   "execution_count": 88,
   "metadata": {},
   "outputs": [],
   "source": [
    "# export submission file as pdf\n",
    "# CHANGE FILE PATH: \n",
    "my_submission.to_csv('moviereviews_submission2.csv', index=False)"
   ]
  },
  {
   "cell_type": "markdown",
   "metadata": {},
   "source": [
    "# Submit to Canvas: 1) the CSV file that was written in the previous cell and 2) the url to the repository (GitHub or other) that contains your code and documentation"
   ]
  }
 ],
 "metadata": {
  "kernelspec": {
   "display_name": "Python 3 (ipykernel)",
   "language": "python",
   "name": "python3"
  },
  "language_info": {
   "codemirror_mode": {
    "name": "ipython",
    "version": 3
   },
   "file_extension": ".py",
   "mimetype": "text/x-python",
   "name": "python",
   "nbconvert_exporter": "python",
   "pygments_lexer": "ipython3",
   "version": "3.9.13"
  }
 },
 "nbformat": 4,
 "nbformat_minor": 2
}
